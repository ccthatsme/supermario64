{
 "cells": [
  {
   "cell_type": "code",
   "execution_count": 167,
   "metadata": {},
   "outputs": [],
   "source": [
    "import requests\n",
    "import pandas as pd\n",
    "import matplotlib.pyplot as plt\n",
    "import numpy as np\n",
    "from scipy.stats import norm\n",
    "import datetime\n",
    "import statsmodels.api as sm\n",
    "import statsmodels.stats.api as sms\n",
    "import statsmodels.formula.api as smf\n",
    "import seaborn as sns\n",
    "\n",
    "speedrunurl = 'https://www.speedrun.com/api/v1'"
   ]
  },
  {
   "cell_type": "code",
   "execution_count": 168,
   "metadata": {},
   "outputs": [
    {
     "data": {
      "text/html": [
       "<div>\n",
       "<style scoped>\n",
       "    .dataframe tbody tr th:only-of-type {\n",
       "        vertical-align: middle;\n",
       "    }\n",
       "\n",
       "    .dataframe tbody tr th {\n",
       "        vertical-align: top;\n",
       "    }\n",
       "\n",
       "    .dataframe thead th {\n",
       "        text-align: right;\n",
       "    }\n",
       "</style>\n",
       "<table border=\"1\" class=\"dataframe\">\n",
       "  <thead>\n",
       "    <tr style=\"text-align: right;\">\n",
       "      <th></th>\n",
       "      <th>place</th>\n",
       "      <th>player</th>\n",
       "      <th>speed_run_time</th>\n",
       "      <th>console</th>\n",
       "      <th>date_achieved</th>\n",
       "    </tr>\n",
       "  </thead>\n",
       "  <tbody>\n",
       "    <tr>\n",
       "      <th>0</th>\n",
       "      <td>1</td>\n",
       "      <td>jn32931x</td>\n",
       "      <td>5728</td>\n",
       "      <td>w89rwelk</td>\n",
       "      <td>2024-11-04T05:39:48Z</td>\n",
       "    </tr>\n",
       "    <tr>\n",
       "      <th>1</th>\n",
       "      <td>2</td>\n",
       "      <td>zxzk1q9x</td>\n",
       "      <td>5730</td>\n",
       "      <td>w89rwelk</td>\n",
       "      <td>2025-03-18T23:22:54Z</td>\n",
       "    </tr>\n",
       "    <tr>\n",
       "      <th>2</th>\n",
       "      <td>3</td>\n",
       "      <td>j2ylqn68</td>\n",
       "      <td>5752</td>\n",
       "      <td>w89rwelk</td>\n",
       "      <td>2025-06-14T16:07:07Z</td>\n",
       "    </tr>\n",
       "    <tr>\n",
       "      <th>3</th>\n",
       "      <td>4</td>\n",
       "      <td>kjprmwk8</td>\n",
       "      <td>5762</td>\n",
       "      <td>w89rwelk</td>\n",
       "      <td>2024-07-07T17:33:13Z</td>\n",
       "    </tr>\n",
       "    <tr>\n",
       "      <th>4</th>\n",
       "      <td>5</td>\n",
       "      <td>1xyd46wx</td>\n",
       "      <td>5793</td>\n",
       "      <td>w89rwelk</td>\n",
       "      <td>2025-05-01T21:52:00Z</td>\n",
       "    </tr>\n",
       "  </tbody>\n",
       "</table>\n",
       "</div>"
      ],
      "text/plain": [
       "   place    player  speed_run_time   console         date_achieved\n",
       "0      1  jn32931x            5728  w89rwelk  2024-11-04T05:39:48Z\n",
       "1      2  zxzk1q9x            5730  w89rwelk  2025-03-18T23:22:54Z\n",
       "2      3  j2ylqn68            5752  w89rwelk  2025-06-14T16:07:07Z\n",
       "3      4  kjprmwk8            5762  w89rwelk  2024-07-07T17:33:13Z\n",
       "4      5  1xyd46wx            5793  w89rwelk  2025-05-01T21:52:00Z"
      ]
     },
     "execution_count": 168,
     "metadata": {},
     "output_type": "execute_result"
    }
   ],
   "source": [
    "sm64 = pd.read_csv('./csv/sm64df.csv')\n",
    "\n",
    "sm64.head()\n"
   ]
  },
  {
   "cell_type": "markdown",
   "metadata": {},
   "source": [
    "### convert console column to actual meaningful name"
   ]
  },
  {
   "cell_type": "code",
   "execution_count": 169,
   "metadata": {},
   "outputs": [
    {
     "name": "stdout",
     "output_type": "stream",
     "text": [
      "['w89rwelk' 'nzelreqp' '7m6ylw9p' 'v06dr394']\n",
      "{'w89rwelk': 'Nintendo 64', 'nzelreqp': 'Wii Virtual Console', '7m6ylw9p': 'Switch', 'v06dr394': 'Wii U Virtual Console'}\n"
     ]
    }
   ],
   "source": [
    "console_url = 'https://www.speedrun.com/api/v1/platforms/'\n",
    "unique_console_ids = sm64['console'].unique()\n",
    "console_dic = {}\n",
    "\n",
    "print(unique_console_ids)\n",
    "\n",
    "for id in unique_console_ids:\n",
    "    new_url = console_url + id\n",
    "\n",
    "    consoles = requests.get(new_url)\n",
    "    consoles = consoles.json()['data']\n",
    "    console_dic[id] = consoles['name']\n",
    "\n",
    "print(console_dic)\n",
    "\n",
    "\n",
    "\n"
   ]
  },
  {
   "cell_type": "code",
   "execution_count": 170,
   "metadata": {},
   "outputs": [
    {
     "data": {
      "text/html": [
       "<div>\n",
       "<style scoped>\n",
       "    .dataframe tbody tr th:only-of-type {\n",
       "        vertical-align: middle;\n",
       "    }\n",
       "\n",
       "    .dataframe tbody tr th {\n",
       "        vertical-align: top;\n",
       "    }\n",
       "\n",
       "    .dataframe thead th {\n",
       "        text-align: right;\n",
       "    }\n",
       "</style>\n",
       "<table border=\"1\" class=\"dataframe\">\n",
       "  <thead>\n",
       "    <tr style=\"text-align: right;\">\n",
       "      <th></th>\n",
       "      <th>place</th>\n",
       "      <th>player</th>\n",
       "      <th>speed_run_time</th>\n",
       "      <th>console</th>\n",
       "      <th>date_achieved</th>\n",
       "    </tr>\n",
       "  </thead>\n",
       "  <tbody>\n",
       "    <tr>\n",
       "      <th>0</th>\n",
       "      <td>1</td>\n",
       "      <td>jn32931x</td>\n",
       "      <td>5728</td>\n",
       "      <td>Nintendo 64</td>\n",
       "      <td>2024-11-04T05:39:48Z</td>\n",
       "    </tr>\n",
       "    <tr>\n",
       "      <th>1</th>\n",
       "      <td>2</td>\n",
       "      <td>zxzk1q9x</td>\n",
       "      <td>5730</td>\n",
       "      <td>Nintendo 64</td>\n",
       "      <td>2025-03-18T23:22:54Z</td>\n",
       "    </tr>\n",
       "    <tr>\n",
       "      <th>2</th>\n",
       "      <td>3</td>\n",
       "      <td>j2ylqn68</td>\n",
       "      <td>5752</td>\n",
       "      <td>Nintendo 64</td>\n",
       "      <td>2025-06-14T16:07:07Z</td>\n",
       "    </tr>\n",
       "    <tr>\n",
       "      <th>3</th>\n",
       "      <td>4</td>\n",
       "      <td>kjprmwk8</td>\n",
       "      <td>5762</td>\n",
       "      <td>Nintendo 64</td>\n",
       "      <td>2024-07-07T17:33:13Z</td>\n",
       "    </tr>\n",
       "    <tr>\n",
       "      <th>4</th>\n",
       "      <td>5</td>\n",
       "      <td>1xyd46wx</td>\n",
       "      <td>5793</td>\n",
       "      <td>Nintendo 64</td>\n",
       "      <td>2025-05-01T21:52:00Z</td>\n",
       "    </tr>\n",
       "  </tbody>\n",
       "</table>\n",
       "</div>"
      ],
      "text/plain": [
       "   place    player  speed_run_time      console         date_achieved\n",
       "0      1  jn32931x            5728  Nintendo 64  2024-11-04T05:39:48Z\n",
       "1      2  zxzk1q9x            5730  Nintendo 64  2025-03-18T23:22:54Z\n",
       "2      3  j2ylqn68            5752  Nintendo 64  2025-06-14T16:07:07Z\n",
       "3      4  kjprmwk8            5762  Nintendo 64  2024-07-07T17:33:13Z\n",
       "4      5  1xyd46wx            5793  Nintendo 64  2025-05-01T21:52:00Z"
      ]
     },
     "execution_count": 170,
     "metadata": {},
     "output_type": "execute_result"
    }
   ],
   "source": [
    "sm64['console'] = sm64['console'].replace(to_replace=console_dic)\n",
    "\n",
    "sm64.head()"
   ]
  },
  {
   "cell_type": "markdown",
   "metadata": {},
   "source": [
    "## Percentage of the top speed runs in Super Mario 64 (120 Star Completion) by Console"
   ]
  },
  {
   "cell_type": "code",
   "execution_count": 171,
   "metadata": {},
   "outputs": [
    {
     "data": {
      "image/png": "[encoded data removed]",
      "text/plain": [
       "<Figure size 640x480 with 1 Axes>"
      ]
     },
     "metadata": {},
     "output_type": "display_data"
    }
   ],
   "source": [
    "sm64df_top1000 = sm64[:1001]\n",
    "console_names = list(console_dic.values())\n",
    "\n",
    "results = []\n",
    "\n",
    "for name in console_names:\n",
    "    records = len(sm64df_top1000[sm64df_top1000['console'] == name])\n",
    "    results.append(records)\n",
    "fig, ax = plt.subplots()\n",
    "ax.pie(results, labels=console_names, autopct='%1.1f%%', radius=2)\n",
    "plt.show()"
   ]
  },
  {
   "cell_type": "markdown",
   "metadata": {},
   "source": [
    "## How much does the console affect the speed at which you complete Super Mario 64?"
   ]
  },
  {
   "cell_type": "code",
   "execution_count": 174,
   "metadata": {},
   "outputs": [
    {
     "name": "stdout",
     "output_type": "stream",
     "text": [
      "                            OLS Regression Results                            \n",
      "==============================================================================\n",
      "Dep. Variable:         speed_run_time   R-squared:                       0.022\n",
      "Model:                            OLS   Adj. R-squared:                  0.019\n",
      "Method:                 Least Squares   F-statistic:                     7.426\n",
      "Date:                Sat, 21 Jun 2025   Prob (F-statistic):           6.39e-05\n",
      "Time:                        20:55:05   Log-Likelihood:                -8314.1\n",
      "No. Observations:                1001   AIC:                         1.664e+04\n",
      "Df Residuals:                     997   BIC:                         1.666e+04\n",
      "Df Model:                           3                                         \n",
      "Covariance Type:            nonrobust                                         \n",
      "=================================================================================================\n",
      "                                    coef    std err          t      P>|t|      [0.025      0.975]\n",
      "-------------------------------------------------------------------------------------------------\n",
      "const                          7298.9864     33.021    221.038      0.000    7234.187    7363.786\n",
      "console_Switch                  725.6803    328.744      2.207      0.028      80.571    1370.789\n",
      "console_Wii U Virtual Console  1044.7636    348.490      2.998      0.003     360.906    1728.622\n",
      "console_Wii Virtual Console     317.4690    103.070      3.080      0.002     115.210     519.729\n",
      "==============================================================================\n",
      "Omnibus:                       76.455   Durbin-Watson:                   0.046\n",
      "Prob(Omnibus):                  0.000   Jarque-Bera (JB):               70.103\n",
      "Skew:                           0.582   Prob(JB):                     5.99e-16\n",
      "Kurtosis:                       2.430   Cond. No.                         11.3\n",
      "==============================================================================\n",
      "\n",
      "Notes:\n",
      "[1] Standard Errors assume that the covariance matrix of the errors is correctly specified.\n"
     ]
    }
   ],
   "source": [
    "\n",
    "one_hot_encoding = pd.get_dummies(sm64df_top1000['console'], prefix='console', drop_first=True)\n",
    "# sm64df_top1000 = sm64df_top1000.drop(columns='console', axis=1)\n",
    "df_encoded = sm64df_top1000.join(one_hot_encoding)\n",
    "\n",
    "console_columns = [col for col in df_encoded.columns if col.startswith('console_')]\n",
    "\n",
    "Y = df_encoded['speed_run_time']\n",
    "X = df_encoded[console_columns].astype(int)\n",
    "\n",
    "\n",
    "\n",
    "X_w_constant = sm.add_constant(X)\n",
    "\n",
    "\n",
    "model = sm.OLS(Y,X_w_constant).fit()\n",
    "model_params = model.params\n",
    "print(model.summary())"
   ]
  },
  {
   "cell_type": "markdown",
   "metadata": {},
   "source": [
    "## Spread of 120 Star Super Mario 64 Speed Run Times according to Console Used "
   ]
  },
  {
   "cell_type": "code",
   "execution_count": 176,
   "metadata": {},
   "outputs": [
    {
     "data": {
      "image/png": "[encoded data removed]",
      "text/plain": [
       "<Figure size 1000x800 with 1 Axes>"
      ]
     },
     "metadata": {},
     "output_type": "display_data"
    }
   ],
   "source": [
    "# plt.scatter(df_encoded['console'], df_encoded['speed_run_time'])\n",
    "\n",
    "plt.figure(figsize=(10,8))\n",
    "sns.boxplot(x='console', y='speed_run_time', data=df_encoded)\n",
    "plt.show()"
   ]
  },
  {
   "cell_type": "code",
   "execution_count": null,
   "metadata": {},
   "outputs": [],
   "source": []
  }
 ],
 "metadata": {
  "kernelspec": {
   "display_name": "env",
   "language": "python",
   "name": "python3"
  },
  "language_info": {
   "codemirror_mode": {
    "name": "ipython",
    "version": 3
   },
   "file_extension": ".py",
   "mimetype": "text/x-python",
   "name": "python",
   "nbconvert_exporter": "python",
   "pygments_lexer": "ipython3",
   "version": "3.9.6"
  }
 },
 "nbformat": 4,
 "nbformat_minor": 2
}
